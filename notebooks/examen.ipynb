import sys
import os
import pandas as pd


# Agregar la carpeta 'src' al sys.path
sys.path.append(os.path.abspath("../src"))

# Ahora puedes importar utils
from utils import cargar_datos_pd
from utils import ver_resumen_nulos
ruta_archivo = "../data/retail_sales.csv"
df = cargar_datos_pd(ruta_archivo)
df.info()
df.head(10)
